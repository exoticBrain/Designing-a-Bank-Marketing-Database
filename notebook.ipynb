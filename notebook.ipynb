import pandas as pd
import numpy as np
import datetime as dt

# Start coding here...
bank_df = pd.read_csv('bank_marketing.csv')

#########################################################

# Start coding here...
bank_df = pd.read_csv('bank_marketing.csv')

#########################################################
client = bank_df[['client_id', 'age', 'job', 'marital', 'education', 'credit_default','housing', 'loan']]
client = client.rename(columns={'client_id': 'id'})
            
client['job'] = client['job'].str.replace('.', '')
client['education'] = client['education'].str.replace('.', '_')
client['education'].replace(to_replace='unknown', value=np.NaN, inplace=True)

# Replace unknown values with nan
client.loc[client['credit_default'] == 'unknown', 'credit_default'] = np.nan
# Define the mapping for conversion
mapping = {'no': False, 'yes': True}
# Replace the values in the DataFrame column and convert to boolean
client['credit_default'] = client['credit_default'].replace(mapping).astype('boolean')


# Replace unknown values with nan
client.loc[client['housing'] == 'unknown', 'housing'] = np.nan
# Replace the values in the DataFrame column and convert to boolean
client['housing'] = client['housing'].replace(mapping).astype('boolean')


# Replace unknown values with nan
client.loc[client['loan'] == 'unknown', 'loan'] = np.nan
# Replace the values in the DataFrame column and convert to boolean
client['loan'] = client['loan'].replace(mapping).astype('boolean')

#########################################################
campaign = bank_df[['client_id', 'campaign', 'duration', 'pdays','previous', 'poutcome', 'y']]


campaign_new_columns = {
    'duration':'contact_duration',
    'previous':'previous_campaign_contacts',
    'y':'campaign_outcome',
    'poutcome':'previous_outcome',
    'campaign':'number_contacts'
}

campaign = campaign.rename(columns=campaign_new_columns)


# campaign['previous_outcome'].replace(to_replace=['success','failure', 'nonexistent'], value=[1,0, np.NaN], inplace=True)
# campaign['previous_outcome'].replace({'success':1,'failure':0, 'nonexistent':np.nan}, inplace=True)

campaign['campaign_id'] = 1

# Replace unknown values with nan
campaign.loc[campaign['previous_outcome'] == 'nonexistent', 'previous_outcome'] = np.nan
# Define the mapping for conversion
mapping = {'success':1,'failure':0}
# Replace the values in the DataFrame column and convert to boolean
campaign['previous_outcome'] = campaign['previous_outcome'].replace(mapping).astype('boolean')

# Define the mapping for conversion
mapping = {'yes':1,'no':0}
# Replace the values in the DataFrame column and convert to boolean
campaign['campaign_outcome'] = campaign['campaign_outcome'].replace(mapping).astype('boolean')

current_year = dt.date.today().year
campaign['last_contact_date'] = pd.to_datetime(
    bank_df['day'].astype(str) + ' ' + bank_df['month'] + ' ' + str(current_year),
    format='%d %b %Y'
)

#########################################################
economics = bank_df[['client_id', 'emp_var_rate', 'cons_price_idx', 'euribor3m', 'nr_employed']]

economics_new_columns = {
    'euribor3m':'euribor_three_months',
    'nr_employed':'number_employed'
}
economics = economics.rename(columns=economics_new_columns)

#########################################################
client.to_csv('client.csv', index=False,sep=',')
campaign.to_csv('campaign.csv', index=False)
economics.to_csv('economics.csv', index=False)
#########################################################

client_table = """
    CREATE TABLE client (
        id SERIAL PRIMARY KEY,
        age INT,
        job TEXT,
        marital TEXT,
        education TEXT,
        credit_default BOOLEAN,
        housing BOOLEAN,
        loan BOOLEAN
    )
    \COPY client FROM 'client.csv' DELIMITER ',' CSV HEADER;  
"""

campaign_table = """
    CREATE TABLE campaign (
        client_id serial REFERENCES client (id),
        campaign_id serial PRIMARY KEY,
        number_contacts INT,
        contact_duration INT,
        pdays INT,
        previous_campaign_contacts INT,
        previous_outcome BOOLEAN,
        campaign_outcome BOOLEAN,
        last_contact_date DATE,
    );
    \COPY campaign FROM 'campaign.csv' DELIMITER ',' CSV HEADER;  
"""
economics_table = """
    CREATE TABLE economics (
        client_id SERIAL PRIMARY KEY,
        emp_var_rate FLOAT,
        cons_price_idx FLOAT,
        euribor_three_months FLOAT,
        number_employed FLOAT,
        client_id serial REFERENCES client (id)
    );
    \COPY economics FROM 'economics.csv' DELIMITER ',' CSV HEADER;  
"""
